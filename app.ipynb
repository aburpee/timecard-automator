{
 "cells": [
  {
   "cell_type": "code",
   "execution_count": 2,
   "id": "6bbd4bbb-545b-4a73-97a7-c63262c3ec90",
   "metadata": {},
   "outputs": [],
   "source": [
    "from selenium import webdriver"
   ]
  },
  {
   "cell_type": "code",
   "execution_count": 7,
   "id": "e194b979-89fd-4e87-b50d-6192f524c489",
   "metadata": {},
   "outputs": [],
   "source": [
    "DRIVER_PATH = '/usr/local/bin/chromedriver'\n",
    "\n",
    "driver = webdriver.Chrome()\n",
    "\n",
    "driver.get('https://www.paycomonline.net/v4/ee/web.php/app/login')\n",
    "\n"
   ]
  },
  {
   "cell_type": "code",
   "execution_count": null,
   "id": "669edb58-bed3-49b1-bf52-d054536b5a49",
   "metadata": {},
   "outputs": [],
   "source": []
  }
 ],
 "metadata": {
  "kernelspec": {
   "display_name": "Python 3 (ipykernel)",
   "language": "python",
   "name": "python3"
  },
  "language_info": {
   "codemirror_mode": {
    "name": "ipython",
    "version": 3
   },
   "file_extension": ".py",
   "mimetype": "text/x-python",
   "name": "python",
   "nbconvert_exporter": "python",
   "pygments_lexer": "ipython3",
   "version": "3.9.7"
  }
 },
 "nbformat": 4,
 "nbformat_minor": 5
}
